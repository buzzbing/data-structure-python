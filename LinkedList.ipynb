{
 "cells": [
  {
   "attachments": {},
   "cell_type": "markdown",
   "metadata": {},
   "source": [
    "Linked List\n",
    "Tutorial:\n",
    "\n",
    "Node\n",
    "Create a LL\n",
    "len\n",
    "insert from head\n",
    "Traverse/print\n",
    "insert from tail(append)\n",
    "insert in middle(after)\n",
    "clear"
   ]
  },
  {
   "cell_type": "code",
   "execution_count": 2,
   "metadata": {},
   "outputs": [],
   "source": [
    "#Node\n",
    "\n",
    "class Node: \n",
    "    '''class to define Node of Linked List'''\n",
    "\n",
    "    def __init__(self, item) -> None:\n",
    "        self.item = item\n",
    "        self.next = None\n"
   ]
  },
  {
   "cell_type": "code",
   "execution_count": 11,
   "metadata": {},
   "outputs": [],
   "source": [
    "class LinkedList:\n",
    "    ''' class to define linked list'''\n",
    "\n",
    "    def __init__(self):\n",
    "        '''creates empty linked list'''\n",
    "        #linked list head\n",
    "        self.head = None\n",
    "        #initialization of number of nodes in linked list\n",
    "        self.n = 0\n",
    "\n",
    "    \n",
    "    def __len__(self) -> int:\n",
    "        '''return length of linked list'''\n",
    "        return self.n\n",
    "    \n",
    "    def insert_head(self, item):\n",
    "        ''' inserts node from head in the linked list'''\n",
    "\n",
    "        new_node = Node(item)\n",
    "        new_node.next = self.head\n",
    "        self.head = new_node\n",
    "        self.n += 1\n",
    "\n",
    "    def __str__(self) -> str:\n",
    "        ''' prints the linked list'''\n",
    "\n",
    "        cursor = self.head\n",
    "        result = ''\n",
    "        while cursor != None:\n",
    "            result += str(cursor.item) + ' -> '\n",
    "            cursor = cursor.next\n",
    "\n",
    "        return result[:-4]\n",
    "    \n",
    "    def append(self, item) -> None:\n",
    "        ''' adds a Node at the end of Linked list'''\n",
    "        new_node = Node(item)\n",
    "\n",
    "        if self.head == None:\n",
    "            self.head = new_node\n",
    "            self.n+=1\n",
    "            return\n",
    "        cursor = self.head\n",
    "        while cursor.next != None:\n",
    "            cursor = cursor.next\n",
    "        cursor.next = new_node\n",
    "        self.n+= 1\n",
    "\n",
    "    def insert_after(self, after, item):\n",
    "        ''' inserts a node after a given node element in the linked list'''\n",
    "        new_node = Node(item)\n",
    "        try:\n",
    "            cursor = self.head\n",
    "            # to find next of prev\n",
    "            while cursor != None:\n",
    "                if cursor.item == after:\n",
    "                    break\n",
    "                cursor = cursor.next\n",
    "            \n",
    "            if cursor != None:\n",
    "                new_node.next = cursor.next\n",
    "                cursor.next = new_node\n",
    "            self.n += 1\n",
    "        except: \n",
    "            print('Item not found')\n",
    "\n",
    "    \n",
    "    def delete_head(self):\n",
    "        ''' deletes node from head'''\n",
    "        self.head = self.head.next\n",
    "        self.n -= 1\n",
    "\n",
    "    def delete_tail(self):\n",
    "        ''' deletes node from tail'''\n",
    "        previous = self.head\n",
    "        cursor = previous.next\n",
    "        while cursor.next != None:\n",
    "            previous = cursor\n",
    "            cursor = cursor.next\n",
    "        \n",
    "        previous.next = None\n",
    "        self.n -= 1\n",
    "        \n",
    "\n",
    "\n",
    "    def clear(self):\n",
    "        ''' clears the linked list'''\n",
    "        self.head = None\n",
    "        self.n = 0\n",
    "\n",
    "\n"
   ]
  },
  {
   "cell_type": "code",
   "execution_count": 12,
   "metadata": {},
   "outputs": [],
   "source": [
    "L = LinkedList()"
   ]
  },
  {
   "cell_type": "code",
   "execution_count": 13,
   "metadata": {},
   "outputs": [],
   "source": [
    "L.insert_head(1)\n",
    "L.insert_head(2)\n",
    "L.insert_head(3)\n",
    "L.insert_head(4)\n",
    "L.insert_head(5)\n"
   ]
  },
  {
   "cell_type": "code",
   "execution_count": 14,
   "metadata": {},
   "outputs": [
    {
     "name": "stdout",
     "output_type": "stream",
     "text": [
      "5 -> 4 -> 3 -> 2 -> 1\n"
     ]
    }
   ],
   "source": [
    "print(L)"
   ]
  },
  {
   "cell_type": "code",
   "execution_count": 15,
   "metadata": {},
   "outputs": [
    {
     "name": "stdout",
     "output_type": "stream",
     "text": [
      "5 -> 4 -> 3 -> 2 -> 1 -> 6\n"
     ]
    }
   ],
   "source": [
    "L.append(6)\n",
    "print(L)"
   ]
  },
  {
   "cell_type": "code",
   "execution_count": 16,
   "metadata": {},
   "outputs": [
    {
     "name": "stdout",
     "output_type": "stream",
     "text": [
      "5 -> 4 -> 3 -> 9 -> 2 -> 1 -> 6\n"
     ]
    }
   ],
   "source": [
    "L.insert_after(3, 9)\n",
    "print(L)"
   ]
  },
  {
   "cell_type": "code",
   "execution_count": 17,
   "metadata": {},
   "outputs": [
    {
     "name": "stdout",
     "output_type": "stream",
     "text": [
      "4 -> 3 -> 9 -> 2 -> 1 -> 6\n"
     ]
    }
   ],
   "source": [
    "L.delete_head()\n",
    "print(L)"
   ]
  },
  {
   "cell_type": "code",
   "execution_count": 18,
   "metadata": {},
   "outputs": [
    {
     "name": "stdout",
     "output_type": "stream",
     "text": [
      "4 -> 3 -> 9 -> 2 -> 1\n"
     ]
    }
   ],
   "source": [
    "L.delete_tail()\n",
    "print(L)"
   ]
  },
  {
   "cell_type": "code",
   "execution_count": 19,
   "metadata": {},
   "outputs": [
    {
     "data": {
      "text/plain": [
       "5"
      ]
     },
     "execution_count": 19,
     "metadata": {},
     "output_type": "execute_result"
    }
   ],
   "source": [
    "L.__len__()"
   ]
  }
 ],
 "metadata": {
  "kernelspec": {
   "display_name": "base",
   "language": "python",
   "name": "python3"
  },
  "language_info": {
   "codemirror_mode": {
    "name": "ipython",
    "version": 3
   },
   "file_extension": ".py",
   "mimetype": "text/x-python",
   "name": "python",
   "nbconvert_exporter": "python",
   "pygments_lexer": "ipython3",
   "version": "3.9.7"
  },
  "orig_nbformat": 4
 },
 "nbformat": 4,
 "nbformat_minor": 2
}
