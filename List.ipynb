{
 "cells": [
  {
   "cell_type": "code",
   "execution_count": 1,
   "metadata": {},
   "outputs": [],
   "source": [
    "import ctypes"
   ]
  },
  {
   "cell_type": "code",
   "execution_count": 2,
   "metadata": {},
   "outputs": [],
   "source": [
    "class MyList():\n",
    "    ''' dynamic array '''\n",
    "\n",
    "    #constructor\n",
    "    def __init__(self):\n",
    "        self.size = 1\n",
    "        self.n = 0\n",
    "        self.arr = self.__create_array(self.size)\n",
    "    \n",
    "    def __create_array(self, capacity: int) :\n",
    "        return (capacity*ctypes.py_object)()\n",
    "\n",
    "    #length of array\n",
    "    def __len__(self) -> int:\n",
    "        return self.n\n",
    "\n",
    "\n",
    "    #print\n",
    "    def __str__(self) -> str:\n",
    "        result = ''\n",
    "        for i in range(self.n):\n",
    "            result = result + str(self.arr[i]) + ', '\n",
    "        return '[ ' + result[:-2] + ' ]'\n",
    "\n",
    "    \n",
    "    #append\n",
    "    def append(self,item: any) -> None:\n",
    "        if self.size == self.n:\n",
    "            #resize\n",
    "            self.__resize(self.size * 2)\n",
    "        self.arr[self.n] = item\n",
    "        self.n += 1 \n",
    "\n",
    "\n",
    "    #resize function\n",
    "    def __resize(self, new_size: int) -> None:\n",
    "        temp_array = self.__create_array(new_size)\n",
    "        self.size = new_size\n",
    "        for i in range(self.n):\n",
    "            temp_array[i] = self.arr[i]\n",
    "        self.arr = temp_array\n",
    "\n",
    "\n",
    "    #indexing\n",
    "    def __getitem__(self, index: int) -> int:\n",
    "        try:\n",
    "            return self.arr[index]\n",
    "        except:\n",
    "            print(\"IndexError: Index Out of range.\")\n",
    "\n",
    "    #pop\n",
    "    def pop(self) -> any:\n",
    "        if self.n == 0:\n",
    "            print(\"Empty list.\")\n",
    "            return\n",
    "        x = self.arr[self.n-1]\n",
    "        self.n -= 1\n",
    "        return x\n",
    "\n",
    "    #insert\n",
    "    def insert(self, index: int, item: any) -> None:\n",
    "        if self.size == self.n:\n",
    "            #resize\n",
    "            self.__resize(self.size * 2)\n",
    "        \n",
    "        for i in range(self.n,index,-1):\n",
    "            self.arr[i] = self.arr[i-1]\n",
    "        self.arr[index] = item\n",
    "        self.n += 1\n",
    "\n",
    "\n",
    "    #delete\n",
    "    def __delitem__(self, index: int) -> None:\n",
    "\n",
    "        # creating new temporary array\n",
    "        temp_array = self.__create_array(self.size - 1)\n",
    "        try:\n",
    "            for i in range(index):\n",
    "                temp_array[i] = self.arr[i]\n",
    "\n",
    "            for i in range(index, self.n - 1, 1):\n",
    "                temp_array[i] = self.arr[i+1]\n",
    "\n",
    "            self.arr = temp_array\n",
    "\n",
    "            self.n -= 1\n",
    "        except:\n",
    "            print(\"IndexError: Index Out of range.\")\n",
    "             \n",
    "\n",
    "    #find\n",
    "    def find(self,item : any) -> str:\n",
    "        for i in range(self.n):\n",
    "            if self.arr[i] == item:\n",
    "                return 'Item at Index: ' + str(i)\n",
    "        return 'Item not found.'\n",
    "    \n",
    "    #remove\n",
    "    def remove(self,item: any) -> None:\n",
    "        try:\n",
    "            for i in range(self.n):\n",
    "                if self.arr[i] == item:\n",
    "                    self.__delitem__(i)\n",
    "                    return \n",
    "        except:\n",
    "            print('Item not found.')\n",
    "    \n",
    "    #clear\n",
    "    def clear(self) -> None:\n",
    "        self.size = 1\n",
    "        self.n = 0\n",
    "        self.arr = self.__create_array(self.size)\n",
    "\n",
    "    #sort\n",
    "    def merge_sort(self) -> None:\n",
    "        if self.__len__() <= 1:\n",
    "            return self\n",
    "        \n",
    "        mid = self.__len__()//2\n",
    "\n",
    "        left = MyList()\n",
    "        \n",
    "        for i in range(mid):\n",
    "            left.append(self.__getitem__(i))\n",
    "\n",
    "        right = MyList()\n",
    "        \n",
    "        for i in range(mid, self.n):\n",
    "            right.append(self.__getitem__(i))\n",
    "            \n",
    "        left = left.merge_sort()\n",
    "        right = right.merge_sort()\n",
    "\n",
    "\n",
    "        return self.__merge(left, right)\n",
    "\n",
    "    #merge\n",
    "    def __merge(self, left, right) -> any:\n",
    " \n",
    "        merged_list = MyList()\n",
    "\n",
    "        len_left = left.__len__()\n",
    "        len_right = right.__len__()\n",
    "        \n",
    "        left_idx, right_idx = 0,0\n",
    "\n",
    "        while left_idx < len_left and  right_idx < len_right:\n",
    "            if left.__getitem__(left_idx) <= right.__getitem__( right_idx):\n",
    "                merged_list.append(left.__getitem__(left_idx))\n",
    "                left_idx += 1\n",
    "            else:\n",
    "                merged_list.append(right.__getitem__( right_idx))\n",
    "                right_idx += 1\n",
    "        \n",
    "\n",
    "        for i in range(left_idx,len_left):\n",
    "            merged_list.append(left.__getitem__(i))\n",
    "\n",
    "  \n",
    "        for i in range( right_idx, len_right):\n",
    "            merged_list.append(right.__getitem__(i))\n",
    "    \n",
    "        return merged_list\n",
    "\n",
    "        "
   ]
  },
  {
   "cell_type": "code",
   "execution_count": 3,
   "metadata": {},
   "outputs": [],
   "source": [
    "L = MyList()"
   ]
  },
  {
   "cell_type": "code",
   "execution_count": 4,
   "metadata": {},
   "outputs": [
    {
     "name": "stdout",
     "output_type": "stream",
     "text": [
      "[ 8, 3, 1, 21, 2, 14, 9 ]\n"
     ]
    }
   ],
   "source": [
    "L.append(8)\n",
    "L.append(3)\n",
    "L.append(1)\n",
    "L.append(21)\n",
    "L.append(2)\n",
    "L.append(14)\n",
    "L.append(9)\n",
    "\n",
    "\n",
    "print(L)"
   ]
  },
  {
   "cell_type": "code",
   "execution_count": 5,
   "metadata": {},
   "outputs": [
    {
     "name": "stdout",
     "output_type": "stream",
     "text": [
      "[ 8, 3, 1, 4, 21, 2, 14, 9 ]\n"
     ]
    }
   ],
   "source": [
    "L.insert(3,4)\n",
    "\n",
    "print(L)"
   ]
  },
  {
   "cell_type": "code",
   "execution_count": 6,
   "metadata": {},
   "outputs": [
    {
     "name": "stdout",
     "output_type": "stream",
     "text": [
      "[ 8, 10, 3, 1, 4, 21, 2, 14, 9 ]\n"
     ]
    }
   ],
   "source": [
    "L.insert(1,10)\n",
    "\n",
    "print(L)"
   ]
  },
  {
   "cell_type": "code",
   "execution_count": 7,
   "metadata": {},
   "outputs": [
    {
     "name": "stdout",
     "output_type": "stream",
     "text": [
      "IndexError: Index Out of range.\n"
     ]
    }
   ],
   "source": [
    "L.__getitem__(10)"
   ]
  },
  {
   "cell_type": "code",
   "execution_count": 8,
   "metadata": {},
   "outputs": [
    {
     "data": {
      "text/plain": [
       "8"
      ]
     },
     "execution_count": 8,
     "metadata": {},
     "output_type": "execute_result"
    }
   ],
   "source": [
    "L.__getitem__(0)"
   ]
  },
  {
   "cell_type": "code",
   "execution_count": 9,
   "metadata": {},
   "outputs": [],
   "source": [
    "L.__delitem__(1)"
   ]
  },
  {
   "cell_type": "code",
   "execution_count": 10,
   "metadata": {},
   "outputs": [
    {
     "name": "stdout",
     "output_type": "stream",
     "text": [
      "[ 8, 3, 1, 4, 21, 2, 14, 9 ]\n"
     ]
    }
   ],
   "source": [
    "print(L)"
   ]
  },
  {
   "cell_type": "code",
   "execution_count": 11,
   "metadata": {},
   "outputs": [
    {
     "data": {
      "text/plain": [
       "'Item at Index: 5'"
      ]
     },
     "execution_count": 11,
     "metadata": {},
     "output_type": "execute_result"
    }
   ],
   "source": [
    "L.find(2)"
   ]
  },
  {
   "cell_type": "code",
   "execution_count": 12,
   "metadata": {},
   "outputs": [
    {
     "name": "stdout",
     "output_type": "stream",
     "text": [
      "[ 8, 3, 1, 4, 21, 14, 9 ]\n"
     ]
    }
   ],
   "source": [
    "L.remove(2)\n",
    "print(L)"
   ]
  },
  {
   "cell_type": "code",
   "execution_count": 13,
   "metadata": {},
   "outputs": [
    {
     "name": "stdout",
     "output_type": "stream",
     "text": [
      "[ 8, 3, 1, 4, 21, 14 ]\n"
     ]
    }
   ],
   "source": [
    "L.pop()\n",
    "print(L)"
   ]
  },
  {
   "cell_type": "code",
   "execution_count": 14,
   "metadata": {},
   "outputs": [
    {
     "name": "stdout",
     "output_type": "stream",
     "text": [
      "[ 1, 3, 4, 8, 14, 21 ]\n"
     ]
    }
   ],
   "source": [
    "\n",
    "print(L.merge_sort())"
   ]
  },
  {
   "cell_type": "code",
   "execution_count": 15,
   "metadata": {},
   "outputs": [
    {
     "name": "stdout",
     "output_type": "stream",
     "text": [
      "[  ]\n"
     ]
    }
   ],
   "source": [
    "L.clear()\n",
    "print(L)"
   ]
  }
 ],
 "metadata": {
  "kernelspec": {
   "display_name": "base",
   "language": "python",
   "name": "python3"
  },
  "language_info": {
   "codemirror_mode": {
    "name": "ipython",
    "version": 3
   },
   "file_extension": ".py",
   "mimetype": "text/x-python",
   "name": "python",
   "nbconvert_exporter": "python",
   "pygments_lexer": "ipython3",
   "version": "3.9.7"
  },
  "orig_nbformat": 4
 },
 "nbformat": 4,
 "nbformat_minor": 2
}
