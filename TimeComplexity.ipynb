{
 "cells": [
  {
   "cell_type": "code",
   "execution_count": 1,
   "metadata": {},
   "outputs": [],
   "source": [
    "import big_o"
   ]
  },
  {
   "attachments": {},
   "cell_type": "markdown",
   "metadata": {},
   "source": [
    "1.\tfor i in range(n):\n",
    "              i = i*2\n"
   ]
  },
  {
   "cell_type": "code",
   "execution_count": 4,
   "metadata": {},
   "outputs": [],
   "source": [
    "def loop(n):\n",
    "    for i in range(n):\n",
    "        i = i*2"
   ]
  },
  {
   "cell_type": "code",
   "execution_count": 101,
   "metadata": {},
   "outputs": [
    {
     "name": "stdout",
     "output_type": "stream",
     "text": [
      "Linear: time = -0.00029 + 3.1E-07*n (sec)\n"
     ]
    }
   ],
   "source": [
    "\n",
    "worst, others = big_o.big_o(loop, big_o.datagen.n_, n_repeats=1, min_n=2, max_n=10000)\n",
    "print(worst)"
   ]
  },
  {
   "attachments": {},
   "cell_type": "markdown",
   "metadata": {},
   "source": [
    "2.\n"
   ]
  },
  {
   "cell_type": "code",
   "execution_count": 190,
   "metadata": {},
   "outputs": [],
   "source": [
    "def fact_iter(n):\n",
    "  \"assumes n an int >= 0\"\n",
    "  answer = 1 \n",
    "  while n > 1: \n",
    "    answer *= n \n",
    "    n -= 1\n",
    "  return answer"
   ]
  },
  {
   "cell_type": "code",
   "execution_count": 199,
   "metadata": {},
   "outputs": [
    {
     "name": "stderr",
     "output_type": "stream",
     "text": [
      "C:\\Users\\dnamr\\AppData\\Local\\Temp/ipykernel_5928/2597553747.py:5: RuntimeWarning: overflow encountered in longlong_scalars\n",
      "  answer *= n\n"
     ]
    },
    {
     "name": "stdout",
     "output_type": "stream",
     "text": [
      "Linear: time = 0.15 + 8.5E-05*n (sec)\n"
     ]
    }
   ],
   "source": [
    "worst, others = big_o.big_o(fact_iter, big_o.datagen.n_, n_repeats=100, min_n=1, max_n=10000)\n",
    "print(worst)"
   ]
  },
  {
   "attachments": {},
   "cell_type": "markdown",
   "metadata": {},
   "source": [
    "3.\n"
   ]
  },
  {
   "cell_type": "code",
   "execution_count": 218,
   "metadata": {},
   "outputs": [],
   "source": [
    "\n",
    "def function(lst): \n",
    "  A = lst[0]\n",
    "  B = lst[1]\n",
    "  for i in A:\n",
    "    for j in B:\n",
    "      if i<j:\n",
    "        print('{}, {}'.format(i, j))\n"
   ]
  },
  {
   "cell_type": "code",
   "execution_count": 188,
   "metadata": {},
   "outputs": [],
   "source": [
    "A = [1, 2, 3, 4]\n",
    "B = [2, 3, 4, 5, 6]"
   ]
  },
  {
   "cell_type": "code",
   "execution_count": 220,
   "metadata": {},
   "outputs": [
    {
     "name": "stdout",
     "output_type": "stream",
     "text": [
      "1, 2\n",
      "1, 3\n",
      "1, 4\n",
      "1, 5\n",
      "1, 6\n",
      "2, 3\n",
      "2, 4\n",
      "2, 5\n",
      "2, 6\n",
      "3, 4\n",
      "3, 5\n",
      "3, 6\n",
      "4, 5\n",
      "4, 6\n",
      "1, 2\n",
      "1, 3\n",
      "1, 4\n",
      "1, 5\n",
      "1, 6\n",
      "2, 3\n",
      "2, 4\n",
      "2, 5\n",
      "2, 6\n",
      "3, 4\n",
      "3, 5\n",
      "3, 6\n",
      "4, 5\n",
      "4, 6\n",
      "1, 2\n",
      "1, 3\n",
      "1, 4\n",
      "1, 5\n",
      "1, 6\n",
      "2, 3\n",
      "2, 4\n",
      "2, 5\n",
      "2, 6\n",
      "3, 4\n",
      "3, 5\n",
      "3, 6\n",
      "4, 5\n",
      "4, 6\n",
      "1, 2\n",
      "1, 3\n",
      "1, 4\n",
      "1, 5\n",
      "1, 6\n",
      "2, 3\n",
      "2, 4\n",
      "2, 5\n",
      "2, 6\n",
      "3, 4\n",
      "3, 5\n",
      "3, 6\n",
      "4, 5\n",
      "4, 6\n",
      "1, 2\n",
      "1, 3\n",
      "1, 4\n",
      "1, 5\n",
      "1, 6\n",
      "2, 3\n",
      "2, 4\n",
      "2, 5\n",
      "2, 6\n",
      "3, 4\n",
      "3, 5\n",
      "3, 6\n",
      "4, 5\n",
      "4, 6\n",
      "1, 2\n",
      "1, 3\n",
      "1, 4\n",
      "1, 5\n",
      "1, 6\n",
      "2, 3\n",
      "2, 4\n",
      "2, 5\n",
      "2, 6\n",
      "3, 4\n",
      "3, 5\n",
      "3, 6\n",
      "4, 5\n",
      "4, 6\n",
      "1, 2\n",
      "1, 3\n",
      "1, 4\n",
      "1, 5\n",
      "1, 6\n",
      "2, 3\n",
      "2, 4\n",
      "2, 5\n",
      "2, 6\n",
      "3, 4\n",
      "3, 5\n",
      "3, 6\n",
      "4, 5\n",
      "4, 6\n",
      "1, 2\n",
      "1, 3\n",
      "1, 4\n",
      "1, 5\n",
      "1, 6\n",
      "2, 3\n",
      "2, 4\n",
      "2, 5\n",
      "2, 6\n",
      "3, 4\n",
      "3, 5\n",
      "3, 6\n",
      "4, 5\n",
      "4, 6\n",
      "1, 2\n",
      "1, 3\n",
      "1, 4\n",
      "1, 5\n",
      "1, 6\n",
      "2, 3\n",
      "2, 4\n",
      "2, 5\n",
      "2, 6\n",
      "3, 4\n",
      "3, 5\n",
      "3, 6\n",
      "4, 5\n",
      "4, 6\n",
      "1, 2\n",
      "1, 3\n",
      "1, 4\n",
      "1, 5\n",
      "1, 6\n",
      "2, 3\n",
      "2, 4\n",
      "2, 5\n",
      "2, 6\n",
      "3, 4\n",
      "3, 5\n",
      "3, 6\n",
      "4, 5\n",
      "4, 6\n",
      "Constant: time = 0.0018 (sec)\n"
     ]
    }
   ],
   "source": [
    "\n",
    "worst, others = big_o.big_o(function, lambda x: [A,B], n_repeats=1, min_n=1, max_n=10000)\n",
    "print(worst)"
   ]
  },
  {
   "attachments": {},
   "cell_type": "markdown",
   "metadata": {},
   "source": [
    "4."
   ]
  },
  {
   "cell_type": "code",
   "execution_count": 224,
   "metadata": {},
   "outputs": [],
   "source": [
    "def function(L):\n",
    "    for i in range(len(L)//2):\n",
    "        other = len(L) - i - 1\n",
    "        temp = L[i]\n",
    "        L[i] = L[other]\n",
    "        L[other] = temp\n"
   ]
  },
  {
   "cell_type": "code",
   "execution_count": 215,
   "metadata": {},
   "outputs": [],
   "source": [
    "L = [1, 2, 3, 4, 5, 6, 7, 8]"
   ]
  },
  {
   "cell_type": "code",
   "execution_count": 225,
   "metadata": {},
   "outputs": [
    {
     "name": "stdout",
     "output_type": "stream",
     "text": [
      "Constant: time = 6.4E-06 (sec)\n"
     ]
    }
   ],
   "source": [
    "worst, others = big_o.big_o(function, lambda x: L, n_repeats=1, min_n=10, max_n=10000)\n",
    "print(worst)"
   ]
  },
  {
   "attachments": {},
   "cell_type": "markdown",
   "metadata": {},
   "source": [
    "5."
   ]
  },
  {
   "cell_type": "code",
   "execution_count": 124,
   "metadata": {},
   "outputs": [],
   "source": [
    "def fib(n):\n",
    "  if n==1 or n==0:\n",
    "    return 1\n",
    "  else:\n",
    "    return fib(n-1) + fib(n-2)\n"
   ]
  },
  {
   "cell_type": "code",
   "execution_count": 221,
   "metadata": {},
   "outputs": [
    {
     "name": "stdout",
     "output_type": "stream",
     "text": [
      "Exponential: time = 4.7E-06 * 1.6^n (sec)\n"
     ]
    }
   ],
   "source": [
    "worst, others = big_o.big_o(fib, big_o.datagen.n_, n_repeats=1, min_n=1, max_n=25)\n",
    "print(worst)"
   ]
  }
 ],
 "metadata": {
  "kernelspec": {
   "display_name": "base",
   "language": "python",
   "name": "python3"
  },
  "language_info": {
   "codemirror_mode": {
    "name": "ipython",
    "version": 3
   },
   "file_extension": ".py",
   "mimetype": "text/x-python",
   "name": "python",
   "nbconvert_exporter": "python",
   "pygments_lexer": "ipython3",
   "version": "3.9.7"
  },
  "orig_nbformat": 4
 },
 "nbformat": 4,
 "nbformat_minor": 2
}
